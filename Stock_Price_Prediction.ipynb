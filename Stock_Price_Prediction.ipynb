{
  "nbformat": 4,
  "nbformat_minor": 0,
  "metadata": {
    "colab": {
      "provenance": []
    },
    "kernelspec": {
      "name": "python3",
      "display_name": "Python 3"
    },
    "language_info": {
      "name": "python"
    }
  },
  "cells": [
    {
      "cell_type": "markdown",
      "source": [
        "#Data Collection\n",
        "\n"
      ],
      "metadata": {
        "id": "ENXlYskvE9Pz"
      }
    },
    {
      "cell_type": "code",
      "source": [
        "import pandas as pd\n",
        "import numpy as np\n",
        "import matplotlib.pyplot as plt\n",
        "from sklearn.preprocessing import MinMaxScaler\n",
        "from sklearn.metrics import mean_absolute_error, mean_squared_error\n",
        "from tensorflow.keras.models import Sequential\n",
        "from tensorflow.keras.layers import LSTM, Dense\n",
        "\n",
        "data = pd.read_csv('/content/MSFT.csv')\n",
        "data['Date'] = pd.to_datetime(data['Date'])\n",
        "data.set_index('Date', inplace=True)"
      ],
      "metadata": {
        "id": "7qk6gvKq0P78"
      },
      "execution_count": 12,
      "outputs": []
    },
    {
      "cell_type": "code",
      "source": [
        "data.info()"
      ],
      "metadata": {
        "id": "0qnkobLG2tCv"
      },
      "execution_count": null,
      "outputs": []
    },
    {
      "cell_type": "code",
      "source": [
        "data.shape"
      ],
      "metadata": {
        "id": "3u9ln0Kv7tjM"
      },
      "execution_count": null,
      "outputs": []
    },
    {
      "cell_type": "code",
      "source": [
        "data.head(10)"
      ],
      "metadata": {
        "id": "kTDpbK1h24a3"
      },
      "execution_count": null,
      "outputs": []
    },
    {
      "cell_type": "markdown",
      "source": [
        "# Data Preprocessing"
      ],
      "metadata": {
        "id": "e7TyndAV0W6Y"
      }
    },
    {
      "cell_type": "code",
      "source": [
        "data.fillna(method='ffill', inplace=True)\n",
        "\n",
        "scaler = MinMaxScaler()\n",
        "scaled_data = scaler.fit_transform(data)"
      ],
      "metadata": {
        "id": "u0ueOCu20rIf"
      },
      "execution_count": 15,
      "outputs": []
    },
    {
      "cell_type": "markdown",
      "source": [
        "# Feature Engineering"
      ],
      "metadata": {
        "id": "N4GPJio00wow"
      }
    },
    {
      "cell_type": "code",
      "source": [
        "sequence_length = 14\n",
        "X, y = [], []\n",
        "for i in range(sequence_length, len(scaled_data)):\n",
        "    X.append(scaled_data[i - sequence_length:i])\n",
        "    y.append(scaled_data[i, 3])  # Using 'close price' as the target\n",
        "\n",
        "X, y = np.array(X), np.array(y)"
      ],
      "metadata": {
        "id": "IM98qW6200mP"
      },
      "execution_count": 16,
      "outputs": []
    },
    {
      "cell_type": "markdown",
      "source": [
        "# Model Selection"
      ],
      "metadata": {
        "id": "00qeq6L5065N"
      }
    },
    {
      "cell_type": "code",
      "source": [
        "train_size = int(0.8 * len(X))\n",
        "X_train, X_test, y_train, y_test = X[:train_size], X[train_size:], y[:train_size], y[train_size:]"
      ],
      "metadata": {
        "id": "pjZbuCby06fA"
      },
      "execution_count": 17,
      "outputs": []
    },
    {
      "cell_type": "code",
      "source": [
        "X_train.shape"
      ],
      "metadata": {
        "id": "3U43T35J7Qlw"
      },
      "execution_count": null,
      "outputs": []
    },
    {
      "cell_type": "code",
      "source": [
        "X_train"
      ],
      "metadata": {
        "id": "muNvhduV7h2I"
      },
      "execution_count": null,
      "outputs": []
    },
    {
      "cell_type": "markdown",
      "source": [
        "# Model Training"
      ],
      "metadata": {
        "id": "dZrmN14R1MV-"
      }
    },
    {
      "cell_type": "code",
      "source": [
        "model = Sequential()\n",
        "model.add(LSTM(200, return_sequences=True, input_shape=(X_train.shape[1], X_train.shape[2])))\n",
        "model.add(LSTM(200, return_sequences=False))\n",
        "model.add(Dense(1))\n",
        "\n",
        "model.compile(optimizer='adam', loss='mean_squared_error')\n",
        "model.fit(X_train, y_train, batch_size=64, epochs=50, verbose=1)"
      ],
      "metadata": {
        "id": "4fFm2SV_1Ozi"
      },
      "execution_count": null,
      "outputs": []
    },
    {
      "cell_type": "markdown",
      "source": [
        "# Evaluation"
      ],
      "metadata": {
        "id": "IzWeTZ7B1U7c"
      }
    },
    {
      "cell_type": "code",
      "source": [
        "y_pred = model.predict(X_test)\n",
        "\n",
        "y_pred = scaler.inverse_transform(np.hstack((np.zeros((len(y_pred), scaled_data.shape[1] - 1)), y_pred)))\n",
        "y_test = scaler.inverse_transform(np.hstack((np.zeros((len(y_test), scaled_data.shape[1] - 1)), np.expand_dims(y_test, axis=1))))\n",
        "\n",
        "y_pred_close = y_pred[:, -1]\n",
        "y_test_close = y_test[:, -1]\n",
        "\n",
        "mae = mean_absolute_error(y_test_close, y_pred_close)\n",
        "rmse = np.sqrt(mean_squared_error(y_test_close, y_pred_close))\n",
        "\n",
        "print(f\"Mean Absolute Error: {mae}\")\n",
        "print(f\"Root Mean Squared Error: {rmse}\")\n",
        "\n",
        "# Visualize the results\n",
        "plt.figure(figsize=(12, 6))\n",
        "plt.plot(data.index[-len(y_test):], y_test_close, label='True Close Price', color='blue')\n",
        "plt.plot(data.index[-len(y_test):], y_pred_close, label='Predicted Close Price', color='red')\n",
        "plt.xlabel('Date')\n",
        "plt.ylabel('Close Price')\n",
        "plt.title('Stock Price Prediction')\n",
        "plt.legend()\n",
        "plt.show()"
      ],
      "metadata": {
        "id": "Li0ZNYc91Xdk"
      },
      "execution_count": null,
      "outputs": []
    }
  ]
}